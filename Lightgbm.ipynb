import lightgbm as lgb
import pandas as pd
import numpy as np
from sklearn.metrics import mean_squared_error

print("~/Desktop/train.csv")
alldf = pd.read_csv('location')
alldf.drop(columns=['Name', 'RescuerID'])
train = alldf[:len(alldf)//10:]
test = alldf[:len(alldf)//10]

x_train = train.drop(columns=['AdoptionSpeed'])
x_test = test.drop(columns=['AdoptionSpeed'])
y_train = train[['AdoptionSpeed']]
y_test = test[['AdoptionSpeed']]

lgb_train = lgb.Dataset(x_train, y_train)
lgb_eval = lgb.Dataset(x_test, y_test, reference = lgb_train)

params = {
    'boosting_type': 'gbdt',
    'objective': 'regression',
    'metric': {'l2', 'l1'},
    'num_leaves': 31,
    'learning_rate': 0.05,
    'feature_fraction': 0.9,
    'bagging_fraction': 0.8,
    'bagging_freq': 5,
    'verbose': 0
}

print('Train')

gbm = lgb.train(params,
                lgb_train,
                num_boost_round=20,
                valid_sets=lgb_eval,
                early_stopping_rounds=5)

print('Save Model')
gbm.save_model('model.txt')

print('Start prediction...')
y_pred = gbm.predict(X_test, num_iteration=gbm.best_iteration)
